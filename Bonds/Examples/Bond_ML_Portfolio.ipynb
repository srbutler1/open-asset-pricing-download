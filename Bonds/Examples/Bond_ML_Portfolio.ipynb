{
 "cells": [
  {
   "cell_type": "markdown",
   "metadata": {},
   "source": [
    "# Bond Machine Learning Portfolio Example\n",
    "\n",
    "This notebook implements machine learning portfolios for corporate bonds, similar to the equity ML portfolio example but adapted for fixed income.\n",
    "\n",
    "You can run each cell individually and review the outputs in chunks.\n"
   ]
  },
  {
   "cell_type": "code",
   "metadata": {},
   "source": [
    "# Imports and setup\n",
    "import pandas as pd\n",
    "import polars as pl\n",
    "import numpy as np\n",
    "import wrds\n",
    "import statsmodels.formula.api as smf\n",
    "import statsmodels.api as sm\n",
    "from sklearn.neural_network import MLPRegressor\n",
    "from sklearn.preprocessing import StandardScaler\n",
    "from sklearn.model_selection import train_test_split\n",
    "import matplotlib.pyplot as plt\n",
    "import datetime as dt\n",
    "import time\n",
    "import warnings\n",
    "warnings.filterwarnings('ignore')\n"
   ]
  },
  {
   "cell_type": "markdown",
   "metadata": {},
   "source": [
    "## Parameters\n",
    "Set the training and testing periods, refit frequency, and number of portfolios.\n"
   ]
  },
  {
   "cell_type": "code",
   "metadata": {},
   "source": [
    "# Set parameters\n",
    "training_start_year = 1980  # Start of training data\n",
    "training_end_year = 1999    # End of initial training period\n",
    "test_start_year = 2000      # Start of testing/prediction period\n",
    "refit_period = 2            # Refit model every 2 years\n",
    "n_portfolios = 5            # Number of portfolios to form\n",
    "print(f'Training period: {training_start_year}-{training_end_year}')\n",
    "print(f'Testing period: {test_start_year}-present')\n",
    "print(f'Refitting every {refit_period} years')\n"
   ]
  },
  {
   "cell_type": "markdown",
   "metadata": {},
   "source": [
    "## Step 1: Get bond returns from WRDS\n"
   ]
  },
  {
   "cell_type": "code",
   "metadata": {},
   "source": [
    "print('Connecting to WRDS...')\n",
    "wrds_conn = wrds.Connection()\n",
    "\n",
    "print('\\nRetrieving bond returns from WRDS...')\n",
    "start_time = time.time()\n",
    "bond_returns = wrds_conn.raw_sql(\"\"\"\n    SELECT cusip_id, date, ret_eom as ret, price_eom as price,\n           t_volume, t_spread, t_yld_pt\n    FROM wrds_bond.bondret\n    WHERE date >= '1980-01-01'\n    AND ret_eom IS NOT NULL\n\"\"\", date_cols=['date'])\n",
    "print(f'Retrieved {len(bond_returns)} bond return observations')\n",
    "print(f'Time elapsed: {time.time() - start_time:.2f} seconds')\n"
   ]
  },
  {
   "cell_type": "markdown",
   "metadata": {},
   "source": [
    "## Step 2: Get bond characteristics from FISD\n"
   ]
  },
  {
   "cell_type": "code",
   "metadata": {},
   "source": [
    "print('\\nRetrieving bond characteristics from WRDS...')\n",
    "start_time = time.time()\n",
    "bond_chars = wrds_conn.raw_sql(\"\"\"\n    SELECT cusip_id, offering_date, maturity, \n           coupon, offering_amt, \n           security_level, bond_type, \n           convertible, callable, putable,\n           rule_144a, rating_class\n    FROM fisd.fisd_mergedissue\n\"\"\", date_cols=['offering_date', 'maturity'])\n",
    "print(f'Retrieved characteristics for {len(bond_chars)} bonds')\n",
    "print(f'Time elapsed: {time.time() - start_time:.2f} seconds')\n"
   ]
  },
  {
   "cell_type": "markdown",
   "metadata": {},
   "source": [
    "## Step 3: Get the bond-equity linking table\n"
   ]
  },
  {
   "cell_type": "code",
   "metadata": {},
   "source": [
    "print('\\nRetrieving bond-equity linking table...')\n",
    "start_time = time.time()\n",
    "bond_equity_link = wrds_conn.raw_sql(\"\"\"\n    SELECT cusip, permno, link_startdt as start_date, \n           link_enddt as end_date\n    FROM wrds_bond.bondcrsp_link\n\"\"\", date_cols=['start_date', 'end_date'])\n",
    "print(f'Retrieved {len(bond_equity_link)} bond-equity links')\n",
    "print(f'Time elapsed: {time.time() - start_time:.2f} seconds')\n"
   ]
  },
  {
   "cell_type": "markdown",
   "metadata": {},
   "source": [
    "## Step 4: Convert to Polars and calculate bond features\n"
   ]
  },
  {
   "cell_type": "code",
   "metadata": {},
   "source": [
    "print('\\nConverting data to polars format...')\n",
    "bond_returns = pl.from_pandas(bond_returns)\n",
    "bond_chars = pl.from_pandas(bond_chars)\n",
    "bond_equity_link = pl.from_pandas(bond_equity_link)\n",
    "\n",
    "print('\\nCalculating bond features...')\n",
    "rating_map = {\n        'AAA': 10, 'AA+': 9.7, 'AA': 9.3, 'AA-': 9, \n        'A+': 8.7, 'A': 8.3, 'A-': 8, \n        'BBB+': 7.7, 'BBB': 7.3, 'BBB-': 7, \n        'BB+': 6.7, 'BB': 6.3, 'BB-': 6, \n        'B+': 5.7, 'B': 5.3, 'B-': 5, \n        'CCC+': 4.7, 'CCC': 4.3, 'CCC-': 4, \n        'CC': 3, 'C': 2, 'D': 1\n    }\n",
    "bond_data = bond_returns.join(\n        bond_chars, \n        left_on='cusip_id', \n        right_on='cusip_id',\n        how='left'\n    )\n",
    "bond_data = bond_data.with_columns([\n        (pl.col('maturity').dt.epoch_days() - pl.col('date').dt.epoch_days()).div(365).alias('time_to_maturity'),\n        (pl.col('date').dt.epoch_days() - pl.col('offering_date').dt.epoch_days()).div(365).alias('bond_age'),\n        pl.col('convertible').cast(pl.Int32).alias('convertible_dummy')\n        # Add more feature engineering as in your script\n    ])\n"
   ]
  },
  {
   "cell_type": "markdown",
   "metadata": {},
   "source": [
    "## Step 5: Merge with equity predictors (optional, if available)\n",
    "\n",
    "If you have equity predictors from OpenAP, merge here. Otherwise, continue with bond data only.\n"
   ]
  },
  {
   "cell_type": "code",
   "metadata": {},
   "source": [
    "import openassetpricing as oap\n",
    "openap = oap.OpenAP()\n",
    "nsignals_for_ml = 20  # Adjust for your memory\n",
    "try:\n",
    "    print('Downloading equity predictors...')\n",
    "    equity_predictors = openap.dl_all_signals('polars')\n",
    "    # Merge/join as in your script\n",
    "except Exception as e:\n",
    "    print(f'Error downloading equity predictors: {e}')\n",
    "    print('Continuing with bond data only...')\n"
   ]
  },
  {
   "cell_type": "markdown",
   "metadata": {},
   "source": [
    "## Step 6: Prepare data for machine learning\n"
   ]
  },
  {
   "cell_type": "code",
   "metadata": {},
   "source": [
    "# Continue with your ML preparation, filling missing values, etc.\n",
    "# ...\n"
   ]
  },
  {
   "cell_type": "markdown",
   "metadata": {},
   "source": [
    "## Step 7: Model Training (Neural Network and OLS)\n"
   ]
  },
  {
   "cell_type": "code",
   "metadata": {},
   "source": [
    "# Train models as in your script\n",
    "# ...\n"
   ]
  },
  {
   "cell_type": "markdown",
   "metadata": {},
   "source": [
    "## Step 8: Form Portfolios and Analyze Performance\n"
   ]
  },
  {
   "cell_type": "code",
   "metadata": {},
   "source": [
    "# Portfolio formation and performance analysis\n",
    "# ...\n"
   ]
  },
  {
   "cell_type": "markdown",
   "metadata": {},
   "source": [
    "## Step 9: Plotting and Saving Results\n"
   ]
  },
  {
   "cell_type": "code",
   "metadata": {},
   "source": [
    "# Plotting and saving as in your script\n",
    "# ...\n"
   ]
  },
  {
   "cell_type": "markdown",
   "metadata": {},
   "source": [
    "## Summary\n",
    "Bond ML Portfolio analysis complete!\n"
   ]
  }
 ],
 "metadata": {
  "kernelspec": {
   "display_name": "Python 3",
   "language": "python",
   "name": "python3"
  },
  "language_info": {
   "name": "python",
   "version": "3.11"
  }
 },
 "nbformat": 4,
 "nbformat_minor": 5
}
